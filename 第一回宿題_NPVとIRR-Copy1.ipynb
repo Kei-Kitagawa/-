{
 "cells": [
  {
   "cell_type": "code",
   "execution_count": 1,
   "metadata": {},
   "outputs": [
    {
     "name": "stdout",
     "output_type": "stream",
     "text": [
      "[ 0.30325836  0.07101114  0.05957666 -0.3820488 ]\n",
      "[7.7138473  5.56378464 5.48356897 3.59611621]\n"
     ]
    }
   ],
   "source": [
    "%matplotlib inline\n",
    "import numpy as np\n",
    "import numpy.polynomial.polynomial as pol\n",
    "import matplotlib.pyplot as plt\n",
    "def NPV(r, CF):\n",
    "    x = 1.0 / (np.exp(r * 0.01))\n",
    "    return pol.polyval(x, CF)\n",
    "def IRR(CF):\n",
    "    Roots = pol.polyroots(CF)\n",
    "    Real = np.real(Roots[np.isreal(Roots)])\n",
    "    Positive = (Real[Real > 0.0]).item(0)\n",
    "    return (1.0 / Positive - 1.0) * 100\n",
    "Periods = np.linspace(0, 4, 5)\n",
    "V_CF = np.array([[-5.0, 1.5, 1.5, 1.5, 1.5],\n",
    "                 [-7.0, 2.0, 2.0, 2.0, 2.0],\n",
    "                 [-9.0, 4.0, 3.0, 2.0, 1.0],\n",
    "                 [-9.0, 1.0, 2.0, 3.0, 4.0]])\n",
    "V_Title = ['project A', 'project B', 'project C', 'project D']\n",
    "r = 5\n",
    "V_NPV = np.zeros(4)\n",
    "for cf_num in range(4):\n",
    "    V_NPV[cf_num] = NPV(r, V_CF[cf_num, :])\n",
    "V_IRR = np.zeros(4)\n",
    "for cf_num in range(4):\n",
    "    V_IRR[cf_num] = IRR(V_CF[cf_num, :])\n",
    "print(V_NPV)\n",
    "print(V_IRR)"
   ]
  },
  {
   "cell_type": "code",
   "execution_count": null,
   "metadata": {},
   "outputs": [],
   "source": []
  }
 ],
 "metadata": {
  "kernelspec": {
   "display_name": "Python (Finance)",
   "language": "python",
   "name": "finance"
  },
  "language_info": {
   "codemirror_mode": {
    "name": "ipython",
    "version": 3
   },
   "file_extension": ".py",
   "mimetype": "text/x-python",
   "name": "python",
   "nbconvert_exporter": "python",
   "pygments_lexer": "ipython3",
   "version": "3.7.4"
  }
 },
 "nbformat": 4,
 "nbformat_minor": 2
}
